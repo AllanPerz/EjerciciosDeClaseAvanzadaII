{
 "cells": [
  {
   "cell_type": "code",
   "execution_count": 12,
   "id": "5380083e-f0c0-47fe-95f1-82e4480e4d56",
   "metadata": {},
   "outputs": [
    {
     "name": "stdout",
     "output_type": "stream",
     "text": [
      "Bienvenido al conversor de monedas\n",
      "1.Dolares\n",
      "2.Lempiras\n",
      "3.Euros\n"
     ]
    },
    {
     "name": "stdin",
     "output_type": "stream",
     "text": [
      "Por favor ingrese la opcion que desee:  1\n",
      "Ingrese la cantidad de Dolares a convertir:  60\n"
     ]
    },
    {
     "name": "stdout",
     "output_type": "stream",
     "text": [
      "60.0 Dolares son 1500.0 Lempiras y 51.0 Euros\n"
     ]
    }
   ],
   "source": [
    "#Conversor de monedas (Euro, Dolares, Lempiras) con funciones\n",
    "import os\n",
    "os.system('cls' if os.name == 'nt' else 'clear')\n",
    "\n",
    "def dolares (cantidad):\n",
    "    Lempiras = cantidad * 25\n",
    "    Euros = cantidad * 0.85\n",
    "    print(f\"{cantidad} Dolares son {Lempiras} Lempiras y {Euros} Euros\")\n",
    "def lempiras (cantidad):    \n",
    "    Dolares = cantidad / 25\n",
    "    Euros = cantidad / 35\n",
    "    print(f\"{cantidad} Lempiras son {Dolares} Dolares y {Euros} Euros\")\n",
    "def euros (cantidad):\n",
    "    Lempiras = cantidad * 35\n",
    "    Dolares = cantidad / 0.85\n",
    "    print(f\"{cantidad} Euros son {Dolares} Dolares y {Lempiras} Lempiras\")\n",
    "\n",
    "print(\"Bienvenido al conversor de monedas\")\n",
    "print(\"1.Dolares\")\n",
    "print(\"2.Lempiras\")\n",
    "print(\"3.Euros\")\n",
    "\n",
    "opcion = int(input(\"Por favor ingrese la opcion que desee: \"))\n",
    "if opcion == 1:\n",
    "    cantidad = float(input(\"Ingrese la cantidad de Dolares a convertir: \"))\n",
    "    dolares(cantidad)\n",
    "elif opcion == 2:\n",
    "    cantidad = float(input(\"Ingrese la cantidad de Lempiras a convertir: \"))\n",
    "    lempiras(cantidad)\n",
    "elif opcion == 3:\n",
    "    cantidad = float(input(\"Ingrese la cantidad de Euros a convertir: \"))\n",
    "    euros(cantidad)"
   ]
  },
  {
   "cell_type": "code",
   "execution_count": null,
   "id": "56d11aef-a067-4ca9-a4b3-2a8f5e1960ec",
   "metadata": {},
   "outputs": [],
   "source": []
  }
 ],
 "metadata": {
  "kernelspec": {
   "display_name": "Python [conda env:base] *",
   "language": "python",
   "name": "conda-base-py"
  },
  "language_info": {
   "codemirror_mode": {
    "name": "ipython",
    "version": 3
   },
   "file_extension": ".py",
   "mimetype": "text/x-python",
   "name": "python",
   "nbconvert_exporter": "python",
   "pygments_lexer": "ipython3",
   "version": "3.12.7"
  }
 },
 "nbformat": 4,
 "nbformat_minor": 5
}
