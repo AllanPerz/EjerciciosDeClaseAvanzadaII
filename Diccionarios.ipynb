{
 "cells": [
  {
   "cell_type": "code",
   "execution_count": 32,
   "id": "727b51d6",
   "metadata": {},
   "outputs": [
    {
     "data": {
      "text/plain": [
       "dict"
      ]
     },
     "execution_count": 32,
     "metadata": {},
     "output_type": "execute_result"
    }
   ],
   "source": [
    "dic={}\n",
    "type(dic)"
   ]
  },
  {
   "cell_type": "code",
   "execution_count": 33,
   "id": "bd362901",
   "metadata": {},
   "outputs": [
    {
     "data": {
      "text/plain": [
       "{'Funes': 11, 'Javier': 20, 'Sergio': 21, 'Pablo': 22, 'Juan': 23}"
      ]
     },
     "execution_count": 33,
     "metadata": {},
     "output_type": "execute_result"
    }
   ],
   "source": [
    "edades={\"Funes\": 19, \"Javier\": 20, \"Sergio\": 21, \"Pablo\": 22, \"Juan\": 23}\n",
    "edades[\"Funes\"]=11\n",
    "edades"
   ]
  },
  {
   "cell_type": "code",
   "execution_count": 34,
   "id": "3324fabb",
   "metadata": {},
   "outputs": [
    {
     "data": {
      "text/plain": [
       "dict_keys(['Funes', 'Javier', 'Sergio', 'Pablo', 'Juan'])"
      ]
     },
     "execution_count": 34,
     "metadata": {},
     "output_type": "execute_result"
    }
   ],
   "source": [
    "edades.keys() #values para ver los valores"
   ]
  },
  {
   "cell_type": "code",
   "execution_count": 35,
   "id": "f9f85d3a",
   "metadata": {},
   "outputs": [
    {
     "data": {
      "text/plain": [
       "dict_items([('Funes', 11), ('Javier', 20), ('Sergio', 21), ('Pablo', 22), ('Juan', 23)])"
      ]
     },
     "execution_count": 35,
     "metadata": {},
     "output_type": "execute_result"
    }
   ],
   "source": [
    "edades.items() "
   ]
  },
  {
   "cell_type": "code",
   "execution_count": 36,
   "id": "fbaf3370",
   "metadata": {},
   "outputs": [
    {
     "data": {
      "text/plain": [
       "23"
      ]
     },
     "execution_count": 36,
     "metadata": {},
     "output_type": "execute_result"
    }
   ],
   "source": [
    "edades.get(\"Juan\")"
   ]
  }
 ],
 "metadata": {
  "kernelspec": {
   "display_name": "base",
   "language": "python",
   "name": "python3"
  },
  "language_info": {
   "codemirror_mode": {
    "name": "ipython",
    "version": 3
   },
   "file_extension": ".py",
   "mimetype": "text/x-python",
   "name": "python",
   "nbconvert_exporter": "python",
   "pygments_lexer": "ipython3",
   "version": "3.12.7"
  }
 },
 "nbformat": 4,
 "nbformat_minor": 5
}
