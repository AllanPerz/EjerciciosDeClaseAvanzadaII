{
 "cells": [
  {
   "cell_type": "code",
   "execution_count": null,
   "id": "3a67e4ca",
   "metadata": {},
   "outputs": [
    {
     "name": "stdout",
     "output_type": "stream",
     "text": [
      "Factura\n",
      "Cliente: Allan Perez\n",
      "Producto: Laptop\n",
      "Cantidad: 5\n",
      "Precio: 1500.0\n",
      "Subtotal: 7500.0\n",
      "Descuento: 750.0\n",
      "Impuesto: 1125.0\n",
      "Total: 7875.0\n"
     ]
    }
   ],
   "source": [
    "#Ejercicio utilizando diccionarios\n",
    "\n",
    "cliente=\"Allan Perez\"\n",
    "producto=\"Laptop\"\n",
    "cantidad=int(input(\"Ingrese la cantidad de producto: \"))\n",
    "precio=1500.00\n",
    "subtotal=cantidad * precio\n",
    "descuento=0.10*subtotal  # 10% de descuento\n",
    "impuesto=0.15*subtotal  # 15% de impuesto\n",
    "total=subtotal - descuento + impuesto\n",
    "\n",
    "producto = {\"Cliente\":cliente,\n",
    "             \"Producto\": producto,\n",
    "             \"Cantidad\": cantidad,\n",
    "             \"Precio\": precio,\n",
    "             \"Subtotal\": subtotal,\n",
    "             \"Descuento\": descuento,\n",
    "             \"Impuesto\": impuesto,\n",
    "             \"Total\": total\n",
    "             }\n",
    "print(\"Factura\")\n",
    "for clave, valor in producto.items():\n",
    "    print(f\"{clave}: {valor}\")"
   ]
  },
  {
   "cell_type": "code",
   "execution_count": 12,
   "id": "fe0ded35",
   "metadata": {},
   "outputs": [
    {
     "data": {
      "text/html": [
       "<div>\n",
       "<style scoped>\n",
       "    .dataframe tbody tr th:only-of-type {\n",
       "        vertical-align: middle;\n",
       "    }\n",
       "\n",
       "    .dataframe tbody tr th {\n",
       "        vertical-align: top;\n",
       "    }\n",
       "\n",
       "    .dataframe thead th {\n",
       "        text-align: right;\n",
       "    }\n",
       "</style>\n",
       "<table border=\"1\" class=\"dataframe\">\n",
       "  <thead>\n",
       "    <tr style=\"text-align: right;\">\n",
       "      <th></th>\n",
       "      <th>Cliente</th>\n",
       "      <th>Producto</th>\n",
       "      <th>Cantidad</th>\n",
       "      <th>Precio</th>\n",
       "      <th>Subtotal</th>\n",
       "      <th>Descuento</th>\n",
       "      <th>Impuesto</th>\n",
       "      <th>Total</th>\n",
       "    </tr>\n",
       "  </thead>\n",
       "  <tbody>\n",
       "    <tr>\n",
       "      <th>0</th>\n",
       "      <td>Allan Perez</td>\n",
       "      <td>Laptop</td>\n",
       "      <td>5</td>\n",
       "      <td>1500.0</td>\n",
       "      <td>7500.0</td>\n",
       "      <td>750.0</td>\n",
       "      <td>1125.0</td>\n",
       "      <td>7875.0</td>\n",
       "    </tr>\n",
       "  </tbody>\n",
       "</table>\n",
       "</div>"
      ],
      "text/plain": [
       "       Cliente Producto  Cantidad  Precio  Subtotal  Descuento  Impuesto  \\\n",
       "0  Allan Perez   Laptop         5  1500.0    7500.0      750.0    1125.0   \n",
       "\n",
       "    Total  \n",
       "0  7875.0  "
      ]
     },
     "execution_count": 12,
     "metadata": {},
     "output_type": "execute_result"
    }
   ],
   "source": [
    "import pandas as pd\n",
    "df = pd.DataFrame([producto])\n",
    "df "
   ]
  },
  {
   "cell_type": "code",
   "execution_count": 13,
   "id": "e2144d6c",
   "metadata": {},
   "outputs": [
    {
     "name": "stdout",
     "output_type": "stream",
     "text": [
      "2.2.2\n"
     ]
    }
   ],
   "source": [
    "import pandas as pd\n",
    "print(pd.__version__)"
   ]
  }
 ],
 "metadata": {
  "kernelspec": {
   "display_name": "base",
   "language": "python",
   "name": "python3"
  },
  "language_info": {
   "codemirror_mode": {
    "name": "ipython",
    "version": 3
   },
   "file_extension": ".py",
   "mimetype": "text/x-python",
   "name": "python",
   "nbconvert_exporter": "python",
   "pygments_lexer": "ipython3",
   "version": "3.12.7"
  }
 },
 "nbformat": 4,
 "nbformat_minor": 5
}
