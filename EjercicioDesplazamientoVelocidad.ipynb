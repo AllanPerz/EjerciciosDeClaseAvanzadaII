{
 "cells": [
  {
   "cell_type": "code",
   "execution_count": null,
   "id": "d91155f1",
   "metadata": {},
   "outputs": [],
   "source": [
    "#\n",
    "\n",
    "#tupla de gravedad\n",
    "\n"
   ]
  }
 ],
 "metadata": {
  "language_info": {
   "name": "python"
  }
 },
 "nbformat": 4,
 "nbformat_minor": 5
}
