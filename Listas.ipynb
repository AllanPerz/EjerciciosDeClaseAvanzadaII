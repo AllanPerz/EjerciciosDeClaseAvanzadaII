{
 "cells": [
  {
   "cell_type": "code",
   "execution_count": 380,
   "id": "1761c0a7",
   "metadata": {},
   "outputs": [],
   "source": [
    "frutas=[\"Banana\", \"Ciruela\", \"Toronja\", \"Pera\", \"Manzana\"]"
   ]
  },
  {
   "cell_type": "code",
   "execution_count": 381,
   "id": "45eff81f",
   "metadata": {},
   "outputs": [
    {
     "data": {
      "text/plain": [
       "list"
      ]
     },
     "execution_count": 381,
     "metadata": {},
     "output_type": "execute_result"
    }
   ],
   "source": [
    "type(frutas)"
   ]
  },
  {
   "cell_type": "code",
   "execution_count": 382,
   "id": "11273aa6",
   "metadata": {},
   "outputs": [
    {
     "data": {
      "text/plain": [
       "list"
      ]
     },
     "execution_count": 382,
     "metadata": {},
     "output_type": "execute_result"
    }
   ],
   "source": [
    "numeros=[10,20,30,40,50]\n",
    "type(numeros)"
   ]
  },
  {
   "cell_type": "code",
   "execution_count": 383,
   "id": "4113bc0e",
   "metadata": {},
   "outputs": [
    {
     "data": {
      "text/plain": [
       "list"
      ]
     },
     "execution_count": 383,
     "metadata": {},
     "output_type": "execute_result"
    }
   ],
   "source": [
    "listas=[[1,2.3],[\"a\", \"b\", \"c\"],[True, False]]\n",
    "type(listas)"
   ]
  },
  {
   "cell_type": "code",
   "execution_count": 384,
   "id": "f9c98934",
   "metadata": {},
   "outputs": [
    {
     "data": {
      "text/plain": [
       "list"
      ]
     },
     "execution_count": 384,
     "metadata": {},
     "output_type": "execute_result"
    }
   ],
   "source": [
    "mixtas=[1, \"Hola\", True] #NOOOOOOO\n",
    "type(mixtas)"
   ]
  },
  {
   "cell_type": "code",
   "execution_count": 385,
   "id": "f0ca3c23",
   "metadata": {},
   "outputs": [
    {
     "data": {
      "text/plain": [
       "['Banana', 'Ciruela', 'Mango', 'Pera', 'Toronja']"
      ]
     },
     "execution_count": 385,
     "metadata": {},
     "output_type": "execute_result"
    }
   ],
   "source": [
    "frutas.pop()\n",
    "frutas.append(\"Mango\")#Adiciona \"Mango\" al final de la lista de frutas\n",
    "frutas.insert(2,\"Kiwi\")\n",
    "frutas.sort()\n",
    "frutas.remove(\"Kiwi\")\n",
    "frutas"
   ]
  },
  {
   "cell_type": "code",
   "execution_count": 386,
   "id": "ca382f8b",
   "metadata": {},
   "outputs": [
    {
     "data": {
      "text/plain": [
       "['__add__',\n",
       " '__class__',\n",
       " '__class_getitem__',\n",
       " '__contains__',\n",
       " '__delattr__',\n",
       " '__delitem__',\n",
       " '__dir__',\n",
       " '__doc__',\n",
       " '__eq__',\n",
       " '__format__',\n",
       " '__ge__',\n",
       " '__getattribute__',\n",
       " '__getitem__',\n",
       " '__getstate__',\n",
       " '__gt__',\n",
       " '__hash__',\n",
       " '__iadd__',\n",
       " '__imul__',\n",
       " '__init__',\n",
       " '__init_subclass__',\n",
       " '__iter__',\n",
       " '__le__',\n",
       " '__len__',\n",
       " '__lt__',\n",
       " '__mul__',\n",
       " '__ne__',\n",
       " '__new__',\n",
       " '__reduce__',\n",
       " '__reduce_ex__',\n",
       " '__repr__',\n",
       " '__reversed__',\n",
       " '__rmul__',\n",
       " '__setattr__',\n",
       " '__setitem__',\n",
       " '__sizeof__',\n",
       " '__str__',\n",
       " '__subclasshook__',\n",
       " 'append',\n",
       " 'clear',\n",
       " 'copy',\n",
       " 'count',\n",
       " 'extend',\n",
       " 'index',\n",
       " 'insert',\n",
       " 'pop',\n",
       " 'remove',\n",
       " 'reverse',\n",
       " 'sort']"
      ]
     },
     "execution_count": 386,
     "metadata": {},
     "output_type": "execute_result"
    }
   ],
   "source": [
    "dir(frutas)"
   ]
  },
  {
   "cell_type": "code",
   "execution_count": 387,
   "id": "e424043e",
   "metadata": {},
   "outputs": [
    {
     "data": {
      "text/plain": [
       "7"
      ]
     },
     "execution_count": 387,
     "metadata": {},
     "output_type": "execute_result"
    }
   ],
   "source": [
    "len(\"Enrique\")"
   ]
  },
  {
   "cell_type": "code",
   "execution_count": 388,
   "id": "b262c80e",
   "metadata": {},
   "outputs": [
    {
     "data": {
      "text/plain": [
       "5"
      ]
     },
     "execution_count": 388,
     "metadata": {},
     "output_type": "execute_result"
    }
   ],
   "source": [
    "len(frutas) "
   ]
  },
  {
   "cell_type": "code",
   "execution_count": 389,
   "id": "fdad2197",
   "metadata": {},
   "outputs": [
    {
     "data": {
      "text/plain": [
       "[1, 2, 3, 4, 5, 6]"
      ]
     },
     "execution_count": 389,
     "metadata": {},
     "output_type": "execute_result"
    }
   ],
   "source": [
    "lista1=[1,2,3]\n",
    "lista2=[4,5,6]\n",
    "combinada=lista1+lista2\n",
    "combinada"
   ]
  },
  {
   "cell_type": "code",
   "execution_count": 390,
   "id": "23071847",
   "metadata": {},
   "outputs": [
    {
     "data": {
      "text/plain": [
       "[1, 2, 3, 1, 2, 3, 1, 2, 3, 1, 2, 3, 1, 2, 3]"
      ]
     },
     "execution_count": 390,
     "metadata": {},
     "output_type": "execute_result"
    }
   ],
   "source": [
    "repetida=lista1*5\n",
    "repetida"
   ]
  },
  {
   "cell_type": "code",
   "execution_count": 391,
   "id": "c5e60418",
   "metadata": {},
   "outputs": [
    {
     "data": {
      "text/plain": [
       "[2, 3, 4]"
      ]
     },
     "execution_count": 391,
     "metadata": {},
     "output_type": "execute_result"
    }
   ],
   "source": [
    "sublista= combinada[1:4]\n",
    "sublista\n"
   ]
  },
  {
   "cell_type": "code",
   "execution_count": 392,
   "id": "4a1d0d92",
   "metadata": {},
   "outputs": [
    {
     "data": {
      "text/plain": [
       "[2, 3, 1, 2]"
      ]
     },
     "execution_count": 392,
     "metadata": {},
     "output_type": "execute_result"
    }
   ],
   "source": [
    "sublista2= repetida[1:5]\n",
    "sublista2"
   ]
  },
  {
   "cell_type": "markdown",
   "id": "354b330d",
   "metadata": {},
   "source": [
    "## TUPLAS"
   ]
  },
  {
   "cell_type": "code",
   "execution_count": 393,
   "id": "7f0731a5",
   "metadata": {},
   "outputs": [
    {
     "data": {
      "text/plain": [
       "tuple"
      ]
     },
     "execution_count": 393,
     "metadata": {},
     "output_type": "execute_result"
    }
   ],
   "source": [
    "t=1,2\n",
    "type(t)"
   ]
  },
  {
   "cell_type": "code",
   "execution_count": 394,
   "id": "ce9ab938",
   "metadata": {},
   "outputs": [
    {
     "data": {
      "text/plain": [
       "2"
      ]
     },
     "execution_count": 394,
     "metadata": {},
     "output_type": "execute_result"
    }
   ],
   "source": [
    "tt=(1, 2, 3)\n",
    "tt[1]"
   ]
  },
  {
   "cell_type": "code",
   "execution_count": 395,
   "id": "1d11344d",
   "metadata": {},
   "outputs": [
    {
     "data": {
      "text/plain": [
       "tuple"
      ]
     },
     "execution_count": 395,
     "metadata": {},
     "output_type": "execute_result"
    }
   ],
   "source": [
    "tm=(\"Allan\",\"Perez\", 19)\n",
    "type(tm)"
   ]
  },
  {
   "cell_type": "code",
   "execution_count": 396,
   "id": "64e98842",
   "metadata": {},
   "outputs": [
    {
     "data": {
      "text/plain": [
       "'Perez'"
      ]
     },
     "execution_count": 396,
     "metadata": {},
     "output_type": "execute_result"
    }
   ],
   "source": [
    "elemento=tm[1]\n",
    "elemento"
   ]
  },
  {
   "cell_type": "code",
   "execution_count": 397,
   "id": "7a2aaac1",
   "metadata": {},
   "outputs": [
    {
     "data": {
      "text/plain": [
       "(('Allan', 'Perez'), (27, 9, 2006))"
      ]
     },
     "execution_count": 397,
     "metadata": {},
     "output_type": "execute_result"
    }
   ],
   "source": [
    "nacimiento=(27,9,2006)\n",
    "cliente=(\"Allan\",\"Perez\")\n",
    "info=(cliente,nacimiento)\n",
    "info"
   ]
  }
 ],
 "metadata": {
  "kernelspec": {
   "display_name": "base",
   "language": "python",
   "name": "python3"
  },
  "language_info": {
   "codemirror_mode": {
    "name": "ipython",
    "version": 3
   },
   "file_extension": ".py",
   "mimetype": "text/x-python",
   "name": "python",
   "nbconvert_exporter": "python",
   "pygments_lexer": "ipython3",
   "version": "3.12.7"
  }
 },
 "nbformat": 4,
 "nbformat_minor": 5
}
