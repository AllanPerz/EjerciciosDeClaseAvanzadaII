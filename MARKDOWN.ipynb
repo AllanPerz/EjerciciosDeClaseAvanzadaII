{
 "cells": [
  {
   "cell_type": "code",
   "execution_count": 1,
   "id": "87adf2d4-d9c0-4a3b-ac2e-a3605adf95bf",
   "metadata": {},
   "outputs": [
    {
     "data": {
      "text/plain": [
       "3"
      ]
     },
     "execution_count": 1,
     "metadata": {},
     "output_type": "execute_result"
    }
   ],
   "source": [
    "1+2"
   ]
  },
  {
   "cell_type": "code",
   "execution_count": 3,
   "id": "365156d1-137e-4932-8824-3f69afddac13",
   "metadata": {},
   "outputs": [
    {
     "data": {
      "text/plain": [
       "3"
      ]
     },
     "execution_count": 3,
     "metadata": {},
     "output_type": "execute_result"
    }
   ],
   "source": [
    "A=1+2\n",
    "A"
   ]
  },
  {
   "cell_type": "code",
   "execution_count": 4,
   "id": "f0a18c9b-9f98-4bda-894b-5a7f24e76eec",
   "metadata": {},
   "outputs": [],
   "source": [
    "#Hola men"
   ]
  },
  {
   "cell_type": "markdown",
   "id": "2b706873-5fff-433c-8b23-7771d9a84c0b",
   "metadata": {},
   "source": [
    "# Allan Pérez\n",
    "## SANTA BARBARA\n",
    "* Las Galeras"
   ]
  },
  {
   "cell_type": "code",
   "execution_count": null,
   "id": "4e3150ce-37cd-4058-a6f2-efe2af9f4eaf",
   "metadata": {},
   "outputs": [],
   "source": []
  }
 ],
 "metadata": {
  "kernelspec": {
   "display_name": "Python [conda env:base] *",
   "language": "python",
   "name": "conda-base-py"
  },
  "language_info": {
   "codemirror_mode": {
    "name": "ipython",
    "version": 3
   },
   "file_extension": ".py",
   "mimetype": "text/x-python",
   "name": "python",
   "nbconvert_exporter": "python",
   "pygments_lexer": "ipython3",
   "version": "3.12.7"
  }
 },
 "nbformat": 4,
 "nbformat_minor": 5
}
