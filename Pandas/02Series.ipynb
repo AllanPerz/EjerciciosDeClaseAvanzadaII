{
 "cells": [
  {
   "cell_type": "markdown",
   "id": "c4e34877",
   "metadata": {},
   "source": []
  },
  {
   "cell_type": "code",
   "execution_count": 7,
   "id": "f619dbfd",
   "metadata": {},
   "outputs": [
    {
     "data": {
      "text/plain": [
       "0                   A CORUNA\n",
       "1                   ALBACETE\n",
       "2                   ALICANTE\n",
       "3                    ALMERIA\n",
       "4                      ARABA\n",
       "5                   ASTURIAS\n",
       "6                      AVILA\n",
       "7                    BADAJOZ\n",
       "8              ILLES BALEARS\n",
       "9                  BARCELONA\n",
       "10                   BIZKAIA\n",
       "11                    BURGOS\n",
       "12                   CACERES\n",
       "13                     CADIZ\n",
       "14                 CANTABRIA\n",
       "15                 CASTELLON\n",
       "16                     CEUTA\n",
       "17               CIUDAD REAL\n",
       "18                   CORDOBA\n",
       "19                    CUENCA\n",
       "20                  GIPUZKOA\n",
       "21                    GIRONA\n",
       "22                   GRANADA\n",
       "23               GUADALAJARA\n",
       "24                    HUELVA\n",
       "25                    HUESCA\n",
       "26                      JAEN\n",
       "27                  LA RIOJA\n",
       "28                LAS PALMAS\n",
       "29                      LEON\n",
       "30                    LLEIDA\n",
       "31                      LUGO\n",
       "32                    MADRID\n",
       "33                    MALAGA\n",
       "34                   MELILLA\n",
       "35                    MURCIA\n",
       "36                   NAVARRA\n",
       "37                   OURENSE\n",
       "38                  PALENCIA\n",
       "39                PONTEVEDRA\n",
       "40                 SALAMANCA\n",
       "41    SANTA CRUZ DE TENERIFE\n",
       "42                   SEGOVIA\n",
       "43                   SEVILLA\n",
       "44                     SORIA\n",
       "45                 TARRAGONA\n",
       "46                    TERUEL\n",
       "47                    TOLEDO\n",
       "48                  VALENCIA\n",
       "49                VALLADOLID\n",
       "50                    ZAMORA\n",
       "51                  ZARAGOZA\n",
       "Name: region, dtype: object"
      ]
     },
     "execution_count": 7,
     "metadata": {},
     "output_type": "execute_result"
    }
   ],
   "source": [
    "import pandas as pd\n",
    "df = pd.read_csv(r\"C:\\_NotebookAvanzada2\\Pandas\\Precipitaciones.csv\")\n",
    "serie=df[\"region\"]\n",
    "serie"
   ]
  },
  {
   "cell_type": "code",
   "execution_count": 8,
   "id": "6a0c63d6",
   "metadata": {},
   "outputs": [
    {
     "data": {
      "text/plain": [
       "0     240.5\n",
       "1      68.1\n",
       "2      49.2\n",
       "3      56.3\n",
       "4      96.8\n",
       "5     196.9\n",
       "6      67.6\n",
       "7      62.2\n",
       "8      81.2\n",
       "9      26.8\n",
       "10    175.7\n",
       "11     75.8\n",
       "12     70.5\n",
       "13    148.5\n",
       "14    180.7\n",
       "15     56.6\n",
       "16    261.9\n",
       "17     84.0\n",
       "18     88.6\n",
       "19     93.6\n",
       "20    173.0\n",
       "21     34.9\n",
       "22     72.2\n",
       "23     88.4\n",
       "24     50.7\n",
       "25     84.3\n",
       "26    100.6\n",
       "27     72.8\n",
       "28     44.1\n",
       "29     92.0\n",
       "30     59.3\n",
       "31    179.5\n",
       "32     69.3\n",
       "33    139.5\n",
       "34     44.9\n",
       "35     44.5\n",
       "36     98.8\n",
       "37    138.9\n",
       "38     52.3\n",
       "39    255.4\n",
       "40     52.9\n",
       "41     90.6\n",
       "42     63.3\n",
       "43     91.1\n",
       "44     75.1\n",
       "45     52.7\n",
       "46     54.1\n",
       "47     83.0\n",
       "48     61.9\n",
       "49     29.2\n",
       "50     53.0\n",
       "51     52.0\n",
       "Name: enero, dtype: float64"
      ]
     },
     "execution_count": 8,
     "metadata": {},
     "output_type": "execute_result"
    }
   ],
   "source": [
    "serie2=df[\"enero\"]# serie es un arreglo unidimensional \n",
    "serie2"
   ]
  },
  {
   "cell_type": "code",
   "execution_count": 10,
   "id": "e6d2867d",
   "metadata": {},
   "outputs": [
    {
     "data": {
      "text/plain": [
       "0      31.0\n",
       "1      26.2\n",
       "2      63.2\n",
       "3      35.8\n",
       "4      38.0\n",
       "5      34.4\n",
       "6       5.6\n",
       "7       7.7\n",
       "8      53.9\n",
       "9      16.4\n",
       "10     52.3\n",
       "11     17.2\n",
       "12      4.3\n",
       "13     65.0\n",
       "14     56.0\n",
       "15     30.6\n",
       "16    209.8\n",
       "17     10.3\n",
       "18      9.6\n",
       "19     14.8\n",
       "20     62.0\n",
       "21     16.0\n",
       "22     17.2\n",
       "23     15.5\n",
       "24     35.4\n",
       "25      5.6\n",
       "26     10.0\n",
       "27     17.6\n",
       "28      6.1\n",
       "29     19.4\n",
       "30     12.6\n",
       "31     26.6\n",
       "32      6.1\n",
       "33     35.5\n",
       "34     45.1\n",
       "35     52.6\n",
       "36     23.8\n",
       "37     10.9\n",
       "38      7.5\n",
       "39     22.3\n",
       "40      4.1\n",
       "41     20.8\n",
       "42      3.3\n",
       "43     24.5\n",
       "44     12.1\n",
       "45      9.7\n",
       "46     11.9\n",
       "47      7.5\n",
       "48     49.3\n",
       "49      4.1\n",
       "50      6.8\n",
       "51      3.6\n",
       "Name: marzo, dtype: float64"
      ]
     },
     "execution_count": 10,
     "metadata": {},
     "output_type": "execute_result"
    }
   ],
   "source": [
    "serie3=df[\"marzo\"]\n",
    "serie3"
   ]
  }
 ],
 "metadata": {
  "kernelspec": {
   "display_name": "base",
   "language": "python",
   "name": "python3"
  },
  "language_info": {
   "codemirror_mode": {
    "name": "ipython",
    "version": 3
   },
   "file_extension": ".py",
   "mimetype": "text/x-python",
   "name": "python",
   "nbconvert_exporter": "python",
   "pygments_lexer": "ipython3",
   "version": "3.12.7"
  }
 },
 "nbformat": 4,
 "nbformat_minor": 5
}
