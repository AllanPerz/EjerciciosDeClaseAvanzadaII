{
 "cells": [
  {
   "cell_type": "markdown",
   "id": "f4d7879e-173e-4f94-829a-2f024fbe46ab",
   "metadata": {},
   "source": [
    "# Palabras magicas para py"
   ]
  },
  {
   "cell_type": "code",
   "execution_count": 2,
   "id": "7cee2f6b-c51d-45bd-a5a8-206d904c26ff",
   "metadata": {},
   "outputs": [],
   "source": [
    "palabra=\"murcielago\""
   ]
  },
  {
   "cell_type": "code",
   "execution_count": 3,
   "id": "eb90666d-8704-48a8-8eaa-4d56aeb155ec",
   "metadata": {},
   "outputs": [
    {
     "data": {
      "text/plain": [
       "'Murcielago'"
      ]
     },
     "execution_count": 3,
     "metadata": {},
     "output_type": "execute_result"
    }
   ],
   "source": [
    "palabra.capitalize()"
   ]
  },
  {
   "cell_type": "code",
   "execution_count": 4,
   "id": "47fa3877-8f48-4000-90b5-17fc48e81fb6",
   "metadata": {},
   "outputs": [
    {
     "data": {
      "text/plain": [
       "'MURCIELAGO'"
      ]
     },
     "execution_count": 4,
     "metadata": {},
     "output_type": "execute_result"
    }
   ],
   "source": [
    "palabra.upper()"
   ]
  },
  {
   "cell_type": "markdown",
   "id": "8bbdab67-508b-45ed-b982-0b47fdaed6d6",
   "metadata": {},
   "source": [
    "## TYPE\n"
   ]
  },
  {
   "cell_type": "code",
   "execution_count": 5,
   "id": "a93f22b9-bdd0-4e30-85b7-2e8b3db2bd86",
   "metadata": {},
   "outputs": [
    {
     "data": {
      "text/plain": [
       "str"
      ]
     },
     "execution_count": 5,
     "metadata": {},
     "output_type": "execute_result"
    }
   ],
   "source": [
    "type(palabra)"
   ]
  },
  {
   "cell_type": "code",
   "execution_count": 6,
   "id": "69ebabaa-8a03-4f20-9d70-d396cb53791a",
   "metadata": {},
   "outputs": [
    {
     "data": {
      "text/plain": [
       "'MURCIELAGO'"
      ]
     },
     "execution_count": 6,
     "metadata": {},
     "output_type": "execute_result"
    }
   ],
   "source": [
    "str.upper(palabra)"
   ]
  },
  {
   "cell_type": "code",
   "execution_count": 7,
   "id": "a6016e85-b580-41f4-adce-22b432bf937f",
   "metadata": {},
   "outputs": [
    {
     "data": {
      "text/plain": [
       "'m'"
      ]
     },
     "execution_count": 7,
     "metadata": {},
     "output_type": "execute_result"
    }
   ],
   "source": [
    "palabra[0]"
   ]
  },
  {
   "cell_type": "code",
   "execution_count": 10,
   "id": "2a14afca-ae20-4c52-b0aa-05a235d07518",
   "metadata": {},
   "outputs": [
    {
     "data": {
      "text/plain": [
       "'o'"
      ]
     },
     "execution_count": 10,
     "metadata": {},
     "output_type": "execute_result"
    }
   ],
   "source": [
    "palabra[-1]"
   ]
  },
  {
   "cell_type": "markdown",
   "id": "3cb416ba-3dc9-41ca-ac9f-afeaa3aaee11",
   "metadata": {},
   "source": [
    "## dir"
   ]
  },
  {
   "cell_type": "code",
   "execution_count": 11,
   "id": "67eca674-b271-4cd8-8f40-8074b90a4e72",
   "metadata": {},
   "outputs": [],
   "source": [
    "frase = \"manana no hay clases, manana...\""
   ]
  },
  {
   "cell_type": "code",
   "execution_count": 12,
   "id": "ed5ce54a-77d2-497b-8d98-347871f769a9",
   "metadata": {},
   "outputs": [
    {
     "data": {
      "text/plain": [
       "['__add__',\n",
       " '__class__',\n",
       " '__contains__',\n",
       " '__delattr__',\n",
       " '__dir__',\n",
       " '__doc__',\n",
       " '__eq__',\n",
       " '__format__',\n",
       " '__ge__',\n",
       " '__getattribute__',\n",
       " '__getitem__',\n",
       " '__getnewargs__',\n",
       " '__getstate__',\n",
       " '__gt__',\n",
       " '__hash__',\n",
       " '__init__',\n",
       " '__init_subclass__',\n",
       " '__iter__',\n",
       " '__le__',\n",
       " '__len__',\n",
       " '__lt__',\n",
       " '__mod__',\n",
       " '__mul__',\n",
       " '__ne__',\n",
       " '__new__',\n",
       " '__reduce__',\n",
       " '__reduce_ex__',\n",
       " '__repr__',\n",
       " '__rmod__',\n",
       " '__rmul__',\n",
       " '__setattr__',\n",
       " '__sizeof__',\n",
       " '__str__',\n",
       " '__subclasshook__',\n",
       " 'capitalize',\n",
       " 'casefold',\n",
       " 'center',\n",
       " 'count',\n",
       " 'encode',\n",
       " 'endswith',\n",
       " 'expandtabs',\n",
       " 'find',\n",
       " 'format',\n",
       " 'format_map',\n",
       " 'index',\n",
       " 'isalnum',\n",
       " 'isalpha',\n",
       " 'isascii',\n",
       " 'isdecimal',\n",
       " 'isdigit',\n",
       " 'isidentifier',\n",
       " 'islower',\n",
       " 'isnumeric',\n",
       " 'isprintable',\n",
       " 'isspace',\n",
       " 'istitle',\n",
       " 'isupper',\n",
       " 'join',\n",
       " 'ljust',\n",
       " 'lower',\n",
       " 'lstrip',\n",
       " 'maketrans',\n",
       " 'partition',\n",
       " 'removeprefix',\n",
       " 'removesuffix',\n",
       " 'replace',\n",
       " 'rfind',\n",
       " 'rindex',\n",
       " 'rjust',\n",
       " 'rpartition',\n",
       " 'rsplit',\n",
       " 'rstrip',\n",
       " 'split',\n",
       " 'splitlines',\n",
       " 'startswith',\n",
       " 'strip',\n",
       " 'swapcase',\n",
       " 'title',\n",
       " 'translate',\n",
       " 'upper',\n",
       " 'zfill']"
      ]
     },
     "execution_count": 12,
     "metadata": {},
     "output_type": "execute_result"
    }
   ],
   "source": [
    "dir(frase)"
   ]
  },
  {
   "cell_type": "markdown",
   "id": "1632b8c5-6cd9-47a7-b35a-9b025a451876",
   "metadata": {},
   "source": [
    "# help"
   ]
  },
  {
   "cell_type": "code",
   "execution_count": 13,
   "id": "6e8d2d1c-0268-47cf-9bed-9f885eee0592",
   "metadata": {},
   "outputs": [
    {
     "name": "stdout",
     "output_type": "stream",
     "text": [
      "Help on built-in function count:\n",
      "\n",
      "count(...) method of builtins.str instance\n",
      "    S.count(sub[, start[, end]]) -> int\n",
      "\n",
      "    Return the number of non-overlapping occurrences of substring sub in\n",
      "    string S[start:end].  Optional arguments start and end are\n",
      "    interpreted as in slice notation.\n",
      "\n"
     ]
    }
   ],
   "source": [
    "help(frase.count)"
   ]
  },
  {
   "cell_type": "code",
   "execution_count": 14,
   "id": "229069b9-2f14-448f-ad27-30d32af130cd",
   "metadata": {},
   "outputs": [
    {
     "data": {
      "text/plain": [
       "8"
      ]
     },
     "execution_count": 14,
     "metadata": {},
     "output_type": "execute_result"
    }
   ],
   "source": [
    "frase.count(\"a\")"
   ]
  },
  {
   "cell_type": "code",
   "execution_count": 15,
   "id": "5d863750-e416-4401-82f8-28ad49b7d797",
   "metadata": {},
   "outputs": [
    {
     "data": {
      "text/plain": [
       "1"
      ]
     },
     "execution_count": 15,
     "metadata": {},
     "output_type": "execute_result"
    }
   ],
   "source": [
    "palabra.count(\"a\")"
   ]
  },
  {
   "cell_type": "code",
   "execution_count": 16,
   "id": "e215fc9d-95de-40a0-9122-52feb5dbae4b",
   "metadata": {},
   "outputs": [
    {
     "data": {
      "text/plain": [
       "4"
      ]
     },
     "execution_count": 16,
     "metadata": {},
     "output_type": "execute_result"
    }
   ],
   "source": [
    "frase.count(\" \")"
   ]
  },
  {
   "cell_type": "code",
   "execution_count": 17,
   "id": "c3c4ec20-0f57-45e7-bb89-6f934685f1c1",
   "metadata": {},
   "outputs": [
    {
     "data": {
      "text/plain": [
       "'ur'"
      ]
     },
     "execution_count": 17,
     "metadata": {},
     "output_type": "execute_result"
    }
   ],
   "source": [
    "palabra[1:3]"
   ]
  },
  {
   "cell_type": "code",
   "execution_count": 22,
   "id": "b0bf8bbe-b182-4f22-b747-528a3f645511",
   "metadata": {},
   "outputs": [
    {
     "data": {
      "text/plain": [
       "'murcielago'"
      ]
     },
     "execution_count": 22,
     "metadata": {},
     "output_type": "execute_result"
    }
   ],
   "source": [
    "palabra[::]"
   ]
  },
  {
   "cell_type": "code",
   "execution_count": 23,
   "id": "2a3eb5a7-095b-48dc-85a9-405e43e34230",
   "metadata": {},
   "outputs": [
    {
     "name": "stdout",
     "output_type": "stream",
     "text": [
      "Help on built-in function split:\n",
      "\n",
      "split(sep=None, maxsplit=-1) method of builtins.str instance\n",
      "    Return a list of the substrings in the string, using sep as the separator string.\n",
      "\n",
      "      sep\n",
      "        The separator used to split the string.\n",
      "\n",
      "        When set to None (the default value), will split on any whitespace\n",
      "        character (including \\n \\r \\t \\f and spaces) and will discard\n",
      "        empty strings from the result.\n",
      "      maxsplit\n",
      "        Maximum number of splits.\n",
      "        -1 (the default value) means no limit.\n",
      "\n",
      "    Splitting starts at the front of the string and works to the end.\n",
      "\n",
      "    Note, str.split() is mainly useful for data that has been intentionally\n",
      "    delimited.  With natural text that includes punctuation, consider using\n",
      "    the regular expression module.\n",
      "\n"
     ]
    }
   ],
   "source": [
    "help(frase.split)"
   ]
  },
  {
   "cell_type": "code",
   "execution_count": 24,
   "id": "606452f7-5812-42ab-b394-8dbe048ff534",
   "metadata": {},
   "outputs": [
    {
     "data": {
      "text/plain": [
       "['manana', 'no', 'hay', 'clases,', 'manana...']"
      ]
     },
     "execution_count": 24,
     "metadata": {},
     "output_type": "execute_result"
    }
   ],
   "source": [
    "frase.split(\" \")"
   ]
  },
  {
   "cell_type": "code",
   "execution_count": 25,
   "id": "e22abc59-7c71-4683-8a1c-d855273b6b95",
   "metadata": {},
   "outputs": [
    {
     "name": "stdout",
     "output_type": "stream",
     "text": [
      "Help on built-in function replace:\n",
      "\n",
      "replace(old, new, count=-1, /) method of builtins.str instance\n",
      "    Return a copy with all occurrences of substring old replaced by new.\n",
      "\n",
      "      count\n",
      "        Maximum number of occurrences to replace.\n",
      "        -1 (the default value) means replace all occurrences.\n",
      "\n",
      "    If the optional argument count is given, only the first count occurrences are\n",
      "    replaced.\n",
      "\n"
     ]
    }
   ],
   "source": [
    "help(frase.replace)"
   ]
  },
  {
   "cell_type": "code",
   "execution_count": 27,
   "id": "82116ef9-d9c7-491d-8d9a-0331371a3652",
   "metadata": {},
   "outputs": [
    {
     "data": {
      "text/plain": [
       "'clase no hay clases, clase...'"
      ]
     },
     "execution_count": 27,
     "metadata": {},
     "output_type": "execute_result"
    }
   ],
   "source": [
    "frase.replace(\"manana\" , \"clase\")"
   ]
  },
  {
   "cell_type": "code",
   "execution_count": 29,
   "id": "3574f45f-754e-4ea0-abef-ac8c5d13783c",
   "metadata": {},
   "outputs": [
    {
     "data": {
      "text/plain": [
       "'manana no hay mananas, manana...'"
      ]
     },
     "execution_count": 29,
     "metadata": {},
     "output_type": "execute_result"
    }
   ],
   "source": [
    "frase.replace(\"clase\", \"manana\")"
   ]
  },
  {
   "cell_type": "code",
   "execution_count": 30,
   "id": "a1fb5d7e-8d48-4e51-b9eb-e8dd1b1270a7",
   "metadata": {},
   "outputs": [
    {
     "data": {
      "text/plain": [
       "'manana,no,hay,clases,,manana...'"
      ]
     },
     "execution_count": 30,
     "metadata": {},
     "output_type": "execute_result"
    }
   ],
   "source": [
    "frase.replace(\" \", \",\")"
   ]
  },
  {
   "cell_type": "code",
   "execution_count": null,
   "id": "8cd2ebc7-7686-4346-8c8c-e0980cf9b0c6",
   "metadata": {},
   "outputs": [],
   "source": []
  }
 ],
 "metadata": {
  "kernelspec": {
   "display_name": "base",
   "language": "python",
   "name": "python3"
  },
  "language_info": {
   "codemirror_mode": {
    "name": "ipython",
    "version": 3
   },
   "file_extension": ".py",
   "mimetype": "text/x-python",
   "name": "python",
   "nbconvert_exporter": "python",
   "pygments_lexer": "ipython3",
   "version": "3.12.7"
  }
 },
 "nbformat": 4,
 "nbformat_minor": 5
}
